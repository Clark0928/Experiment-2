{
 "cells": [
  {
   "cell_type": "markdown",
   "id": "d7c87f60-ba47-4f38-9e27-5d223d745f7e",
   "metadata": {},
   "source": [
    "### NORMALIZATION PROBLEM"
   ]
  },
  {
   "cell_type": "code",
   "execution_count": 3,
   "id": "8eef153d-1810-4526-b6f8-9ae0440ac871",
   "metadata": {},
   "outputs": [],
   "source": [
    "import numpy as np\n",
    "\n",
    "X = np.random.random((5, 5))\n",
    "mean = X.mean()\n",
    "std = X.std()\n",
    "X_normalized = (X - mean) / std\n",
    "\n",
    "np.save('X_normalized.npy', X_normalized)"
   ]
  },
  {
   "cell_type": "markdown",
   "id": "adae8cd2-4414-4a33-a9ba-386c2124e94d",
   "metadata": {},
   "source": [
    "### DIVISIBLE BY 3 PROBLEM"
   ]
  },
  {
   "cell_type": "code",
   "execution_count": 2,
   "id": "a80b8b0c-3731-4b97-9363-af6674133f5a",
   "metadata": {},
   "outputs": [
    {
     "name": "stdout",
     "output_type": "stream",
     "text": [
      "[   9   36   81  144  225  324  441  576  729  900 1089 1296 1521 1764\n",
      " 2025 2304 2601 2916 3249 3600 3969 4356 4761 5184 5625 6084 6561 7056\n",
      " 7569 8100 8649 9216 9801]\n"
     ]
    }
   ],
   "source": [
    "import numpy as np\n",
    "\n",
    "numbers = np.arange(1, 101)\n",
    "A = numbers.reshape((10, 10)) ** 2\n",
    "div_by_3 = A[A % 3 == 0]\n",
    "np.save('div_by_3.npy', div_by_3)\n",
    "\n",
    "loaded_data = np.load('div_by_3.npy')\n",
    "print(loaded_data)"
   ]
  },
  {
   "cell_type": "code",
   "execution_count": null,
   "id": "7c02ca02-35ca-4094-be43-d1d44c5fbcca",
   "metadata": {},
   "outputs": [],
   "source": []
  },
  {
   "cell_type": "code",
   "execution_count": null,
   "id": "50f0ac3a-30b6-4c0d-a4c7-9a3ab4db6131",
   "metadata": {},
   "outputs": [],
   "source": []
  }
 ],
 "metadata": {
  "kernelspec": {
   "display_name": "Python 3 (ipykernel)",
   "language": "python",
   "name": "python3"
  },
  "language_info": {
   "codemirror_mode": {
    "name": "ipython",
    "version": 3
   },
   "file_extension": ".py",
   "mimetype": "text/x-python",
   "name": "python",
   "nbconvert_exporter": "python",
   "pygments_lexer": "ipython3",
   "version": "3.12.4"
  }
 },
 "nbformat": 4,
 "nbformat_minor": 5
}
